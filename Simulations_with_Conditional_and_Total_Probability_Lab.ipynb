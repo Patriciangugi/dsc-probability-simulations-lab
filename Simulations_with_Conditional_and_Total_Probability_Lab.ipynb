{
  "nbformat": 4,
  "nbformat_minor": 0,
  "metadata": {
    "colab": {
      "provenance": [],
      "authorship_tag": "ABX9TyPjQfkHrNCVPbNwzo2GtcLp",
      "include_colab_link": true
    },
    "kernelspec": {
      "name": "python3",
      "display_name": "Python 3"
    },
    "language_info": {
      "name": "python"
    }
  },
  "cells": [
    {
      "cell_type": "markdown",
      "metadata": {
        "id": "view-in-github",
        "colab_type": "text"
      },
      "source": [
        "<a href=\"https://colab.research.google.com/github/Patriciangugi/dsc-probability-simulations-lab/blob/master/Simulations_with_Conditional_and_Total_Probability_Lab.ipynb\" target=\"_parent\"><img src=\"https://colab.research.google.com/assets/colab-badge.svg\" alt=\"Open In Colab\"/></a>"
      ]
    },
    {
      "cell_type": "markdown",
      "source": [
        "Given:\n",
        "\n",
        "Bag 1 (A): 6 white marbles, 4 black marbles\n",
        "Bag 2 (B): 3 white marbles, 7 black marbles\n",
        "The probability of selecting each bag is assumed to be equal since there is no information provided about preference or bias:\n",
        "𝑃\n",
        "(\n",
        "𝐴\n",
        ")\n",
        "=\n",
        "𝑃\n",
        "(\n",
        "𝐵\n",
        ")\n",
        "=\n",
        "1\n",
        "2\n",
        "P(A)=P(B)=\n",
        "2\n",
        "1\n",
        "​\n",
        "\n",
        "\n",
        "Now, we calculate the overall probability of drawing a black marble by using the law of total probability:\n",
        "\n",
        "𝑃\n",
        "(\n",
        "Black marble\n",
        ")\n",
        "=\n",
        "𝑃\n",
        "(\n",
        "Black marble\n",
        "∣\n",
        "𝐴\n",
        ")\n",
        "⋅\n",
        "𝑃\n",
        "(\n",
        "𝐴\n",
        ")\n",
        "+\n",
        "𝑃\n",
        "(\n",
        "Black marble\n",
        "∣\n",
        "𝐵\n",
        ")\n",
        "⋅\n",
        "𝑃\n",
        "(\n",
        "𝐵\n",
        ")\n",
        "P(Black marble)=P(Black marble∣A)⋅P(A)+P(Black marble∣B)⋅P(B)\n",
        "\n",
        "Calculating each component:\n",
        "\n",
        "Probability of drawing a black marble from Bag A:\n",
        "𝑃\n",
        "(\n",
        "Black marble\n",
        "∣\n",
        "𝐴\n",
        ")\n",
        "=\n",
        "Number of black marbles in Bag A\n",
        "Total marbles in Bag A\n",
        "=\n",
        "4\n",
        "10\n",
        "=\n",
        "0.4\n",
        "P(Black marble∣A)=\n",
        "Total marbles in Bag A\n",
        "Number of black marbles in Bag A\n",
        "​\n",
        " =\n",
        "10\n",
        "4\n",
        "​\n",
        " =0.4\n",
        "\n",
        "Probability of drawing a black marble from Bag B:\n",
        "𝑃\n",
        "(\n",
        "Black marble\n",
        "∣\n",
        "𝐵\n",
        ")\n",
        "=\n",
        "Number of black marbles in Bag B\n",
        "Total marbles in Bag B\n",
        "=\n",
        "7\n",
        "10\n",
        "=\n",
        "0.7\n",
        "P(Black marble∣B)=\n",
        "Total marbles in Bag B\n",
        "Number of black marbles in Bag B\n",
        "​\n",
        " =\n",
        "10\n",
        "7\n",
        "​\n",
        " =0.7\n",
        "\n",
        "Substitute these values into the law of total probability:\n",
        "𝑃\n",
        "(\n",
        "Black marble\n",
        ")\n",
        "=\n",
        "0.4\n",
        "⋅\n",
        "1\n",
        "2\n",
        "+\n",
        "0.7\n",
        "⋅\n",
        "1\n",
        "2\n",
        "P(Black marble)=0.4⋅\n",
        "2\n",
        "1\n",
        "​\n",
        " +0.7⋅\n",
        "2\n",
        "1\n",
        "​\n",
        "\n",
        "𝑃\n",
        "(\n",
        "Black marble\n",
        ")\n",
        "=\n",
        "0.2\n",
        "+\n",
        "0.35\n",
        "P(Black marble)=0.2+0.35\n",
        "𝑃\n",
        "(\n",
        "Black marble\n",
        ")\n",
        "=\n",
        "0.55\n",
        "P(Black marble)=0.55\n",
        "\n",
        "Therefore, the probability that the marble drawn is black, given the described scenario, is\n",
        "0.55\n"
      ],
      "metadata": {
        "id": "s6MiL2TBIUJi"
      }
    },
    {
      "cell_type": "code",
      "source": [
        "import numpy as np\n",
        "\n",
        "bag1 = {'marbles': np.array(['black', 'white']), 'probs': np.array([0.4, 0.6])}\n",
        "bag2 = {'marbles': np.array(['black', 'white']), 'probs': np.array([0.7, 0.3])}\n",
        "box = {'bags': np.array([bag1, bag2]), 'probs': np.array([0.5, 0.5])}\n",
        "\n",
        "print(\"bag1:\", bag1)\n",
        "print(\"bag2:\", bag2)\n",
        "print(\"box:\", box)"
      ],
      "metadata": {
        "colab": {
          "base_uri": "https://localhost:8080/"
        },
        "id": "vbszvqouHbjj",
        "outputId": "6e583452-7603-4d6f-c3be-b568acf35137"
      },
      "execution_count": 1,
      "outputs": [
        {
          "output_type": "stream",
          "name": "stdout",
          "text": [
            "bag1: {'marbles': array(['black', 'white'], dtype='<U5'), 'probs': array([0.4, 0.6])}\n",
            "bag2: {'marbles': array(['black', 'white'], dtype='<U5'), 'probs': array([0.7, 0.3])}\n",
            "box: {'bags': array([{'marbles': array(['black', 'white'], dtype='<U5'), 'probs': array([0.4, 0.6])},\n",
            "       {'marbles': array(['black', 'white'], dtype='<U5'), 'probs': array([0.7, 0.3])}],\n",
            "      dtype=object), 'probs': array([0.5, 0.5])}\n"
          ]
        }
      ]
    },
    {
      "cell_type": "code",
      "source": [
        "def sample_marble(box):\n",
        "    chosen_bag = np.random.choice(box['bags'], p=box['probs'])\n",
        "    chosen_marble = np.random.choice(chosen_bag['marbles'], p=chosen_bag['probs'])\n",
        "\n",
        "    return chosen_marble"
      ],
      "metadata": {
        "id": "txHeGvGEHbru"
      },
      "execution_count": 2,
      "outputs": []
    },
    {
      "cell_type": "code",
      "source": [
        "def probability_of_color(color, box, num_samples=1000):\n",
        "    count_color = 0\n",
        "    for _ in range(num_samples):\n",
        "        marble = sample_marble(box)\n",
        "        if marble == color:\n",
        "            count_color += 1\n",
        "\n",
        "    return count_color / num_samples"
      ],
      "metadata": {
        "id": "8tT9FQ4-HbwM"
      },
      "execution_count": 3,
      "outputs": []
    },
    {
      "cell_type": "code",
      "source": [
        "estimated_probability = probability_of_color(\"black\", box, num_samples=100000)\n",
        "print(estimated_probability)"
      ],
      "metadata": {
        "colab": {
          "base_uri": "https://localhost:8080/"
        },
        "id": "VA_Oyo1RHb0F",
        "outputId": "4a356d08-17d6-484b-8cb4-764fc6cc36b0"
      },
      "execution_count": 7,
      "outputs": [
        {
          "output_type": "stream",
          "name": "stdout",
          "text": [
            "0.54854\n"
          ]
        }
      ]
    },
    {
      "cell_type": "code",
      "source": [
        "bag1 = {'marbles': np.array(['black', 'white', 'gray']), 'probs': np.array([0.4, 0.6, 0.0])}\n",
        "bag2 = {'marbles': np.array(['black', 'white', 'gray']), 'probs': np.array([0.7, 0.3, 0.0])}\n",
        "box = {'bags': np.array([bag1, bag2]), 'probs': np.array([2/3, 1/3])}\n",
        "\n",
        "print(\"bag1:\", bag1)\n",
        "print(\"bag2:\", bag2)\n",
        "print(\"box:\", box)"
      ],
      "metadata": {
        "colab": {
          "base_uri": "https://localhost:8080/"
        },
        "id": "M5DMTLRdHb3B",
        "outputId": "84ae6123-14a9-409d-eb14-beab26ab01d9"
      },
      "execution_count": 8,
      "outputs": [
        {
          "output_type": "stream",
          "name": "stdout",
          "text": [
            "bag1: {'marbles': array(['black', 'white', 'gray'], dtype='<U5'), 'probs': array([0.4, 0.6, 0. ])}\n",
            "bag2: {'marbles': array(['black', 'white', 'gray'], dtype='<U5'), 'probs': array([0.7, 0.3, 0. ])}\n",
            "box: {'bags': array([{'marbles': array(['black', 'white', 'gray'], dtype='<U5'), 'probs': array([0.4, 0.6, 0. ])},\n",
            "       {'marbles': array(['black', 'white', 'gray'], dtype='<U5'), 'probs': array([0.7, 0.3, 0. ])}],\n",
            "      dtype=object), 'probs': array([0.66666667, 0.33333333])}\n"
          ]
        }
      ]
    },
    {
      "cell_type": "code",
      "source": [
        "def sample_marble(box):\n",
        "    chosen_bag = np.random.choice(box['bags'], p=box['probs'])\n",
        "    chosen_marble = np.random.choice(chosen_bag['marbles'], p=chosen_bag['probs'])\n",
        "\n",
        "    return chosen_marble"
      ],
      "metadata": {
        "id": "Of3fqoWYHb9A"
      },
      "execution_count": 9,
      "outputs": []
    },
    {
      "cell_type": "code",
      "source": [
        "def probability_of_color(color, box, num_samples=1000):\n",
        "    count_color = 0\n",
        "    for _ in range(num_samples):\n",
        "        marble = sample_marble(box)\n",
        "        if marble == color:\n",
        "            count_color += 1\n",
        "\n",
        "    return count_color / num_samples"
      ],
      "metadata": {
        "id": "rdMYhEC_LFPS"
      },
      "execution_count": 10,
      "outputs": []
    },
    {
      "cell_type": "code",
      "source": [
        "estimated_probability = probability_of_color(\"gray\", box, num_samples=100000)\n",
        "print(estimated_probability)"
      ],
      "metadata": {
        "colab": {
          "base_uri": "https://localhost:8080/"
        },
        "id": "t8YllPb2LFbv",
        "outputId": "5e0b1e57-e8af-400c-adef-7399251a5de2"
      },
      "execution_count": 11,
      "outputs": [
        {
          "output_type": "stream",
          "name": "stdout",
          "text": [
            "0.0\n"
          ]
        }
      ]
    }
  ]
}